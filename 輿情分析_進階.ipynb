{
 "cells": [
  {
   "cell_type": "code",
   "execution_count": 169,
   "metadata": {},
   "outputs": [],
   "source": [
    "import pandas as pd\n",
    "import os\n",
    "import pickle\n",
    "import jieba\n",
    "from PIL import Image\n",
    "import matplotlib.pyplot as plt\n",
    "import numpy as np\n",
    "from wordcloud import WordCloud,ImageColorGenerator\n",
    "import matplotlib.font_manager as fm\n",
    "from tqdm import tqdm_notebook\n",
    "from sklearn.feature_extraction.text import CountVectorizer,TfidfVectorizer\n",
    "from sklearn.decomposition import LatentDirichletAllocation as LDA\n",
    "import seaborn as sns\n",
    "from pyLDAvis import sklearn as sklearn_lda\n",
    "import pickle \n",
    "import pyLDAvis\n",
    "import re\n",
    "jieba.set_dictionary('dict_txt_big.txt')"
   ]
  },
  {
   "cell_type": "code",
   "execution_count": 170,
   "metadata": {},
   "outputs": [
    {
     "data": {
      "text/plain": [
       "(247273, 9)"
      ]
     },
     "execution_count": 170,
     "metadata": {},
     "output_type": "execute_result"
    }
   ],
   "source": [
    "with open('news.pkl','rb') as file:\n",
    "    data = pickle.load(file)\n",
    "data.shape"
   ]
  },
  {
   "cell_type": "code",
   "execution_count": 171,
   "metadata": {},
   "outputs": [
    {
     "data": {
      "text/plain": [
       "(237783, 9)"
      ]
     },
     "execution_count": 171,
     "metadata": {},
     "output_type": "execute_result"
    }
   ],
   "source": [
    "data = data.dropna()\n",
    "data.reset_index(drop=True, inplace=True)\n",
    "data.shape"
   ]
  },
  {
   "cell_type": "code",
   "execution_count": 172,
   "metadata": {},
   "outputs": [],
   "source": [
    "def filters(parag):\n",
    "    r1 = '[a-zA-Z0-9’!\"#$%&\\'()*+,-./:;<=>?@，。?★、…【】《》？“”‘’！[\\\\]^_`{|}~]+'\n",
    "    \n",
    "    bye = ['鉅亨網編譯','<BR>','中央社','有限公司','成交量', '公司','成交','基金','上半年','去年同期',\n",
    "            '同期', '交易日', '下半年','今年','第二季', '第三季', '第四季', '因此','美式','交易','交易所'\n",
    "          '以及', '目前', '近期', '最近']\n",
    "    for x in bye:\n",
    "        parag = parag.replace(x,'')\n",
    "        \n",
    "    parag = re.sub(r1, '', parag)\n",
    "    \n",
    "    return parag\n",
    "\n",
    "def fil_OR(para, company_list):     # 其中一個關鍵字有就取\n",
    "    for x in company_list:\n",
    "        if x in para:\n",
    "            return True\n",
    "    return False\n",
    "    \n",
    "def fil_AND (para, keyword):         # 連集\n",
    "    for x in keyword:\n",
    "        if x not in para:\n",
    "            return False\n",
    "    return True"
   ]
  },
  {
   "cell_type": "markdown",
   "metadata": {},
   "source": [
    "# 停用詞"
   ]
  },
  {
   "cell_type": "code",
   "execution_count": 173,
   "metadata": {},
   "outputs": [],
   "source": [
    "stopwords = [line.rstrip() for line in open('stop.txt', encoding='utf8') ]"
   ]
  },
  {
   "cell_type": "code",
   "execution_count": 174,
   "metadata": {},
   "outputs": [],
   "source": [
    "#中國投資\n",
    "stopwords += ['投資人','思考','能力','半導','導體','大法','新聞來源','來源','工商','時報','投資','分析','分析師','之用',\n",
    "              '國大', '大陸','關係','關係人','臺幣', '新臺幣','觀測','觀測站','讀者','務請','供參考','建議']\n",
    "# 營造建材停用詞：\n",
    "#stopwords += ['美國','中國','市場','指數','創新','億元','公開','董事','合作','技術','國際','產業','總統','企業','不過']\n",
    "\n",
    "#半導體停用詞：\n",
    "#stopwords += ['指數','億元','市場','今日','個股','未來','終場','國際','美國','族群','觀察','經濟','台北','盤中','不過',\n",
    "              #'投資人', '思考','能力','半導體','半導','導體','大法']\n",
    "\n",
    "#金融\n",
    "#stopwords += ['指數','億元','市場','今日','個股','未來','終場','國際','美國','族群','觀察','經濟','台北','盤中','不過',\n",
    " #             '投資人', '思考','能力','半導體','半導','導體','大法','金融股','金融', '收在','盤面','均線','關卡','尾盤',\n",
    "  #            '現貨','大指','上攻', '上週五', '數下', '半年前','強勢','時報', '工商','新聞來源', '日報', '團隊','奇摩',\n",
    "   #          '出刊','財寶','多元','希望', '頭條', '客戶', '成立', '純益', '不適', '事項', '處分', '觀測','萬股', '測站',\n",
    "    #          '觀測站', '新台幣', '損益', '姓名', '辦理', '會計', '生日', '實發', '財務報表','意見', '瓦斯','水電','輸入',\n",
    "     #        '會計師','約定','代號','華金', '配對','中石', '推薦', '依次', '合股', '名次','股票名稱', '金像', '二日', '買賣',\n",
    "      #       '聯大', '成鋼','嘉聯', '聯益','日光','光寶','山金','大成','收盤價', '昨日', '行情', '整理', '提供','公布','明年',\n",
    "       #      '去年','第一', '經理', '企業','每股', '萬元','本次','事項', '日期', '股金', '單位','營商','新科','自營','如下',\n",
    "        #      '華新']\n",
    "\n"
   ]
  },
  {
   "cell_type": "code",
   "execution_count": 143,
   "metadata": {},
   "outputs": [
    {
     "data": {
      "text/plain": [
       "2040"
      ]
     },
     "execution_count": 143,
     "metadata": {},
     "output_type": "execute_result"
    }
   ],
   "source": [
    "len(stopwords)"
   ]
  },
  {
   "cell_type": "code",
   "execution_count": null,
   "metadata": {},
   "outputs": [],
   "source": []
  },
  {
   "cell_type": "markdown",
   "metadata": {},
   "source": [
    "# 過濾新聞與選定關鍵字"
   ]
  },
  {
   "cell_type": "markdown",
   "metadata": {},
   "source": [
    "# for 文字雲"
   ]
  },
  {
   "cell_type": "code",
   "execution_count": 175,
   "metadata": {},
   "outputs": [
    {
     "name": "stderr",
     "output_type": "stream",
     "text": [
      "/Users/lanjingyi/opt/anaconda3/lib/python3.7/site-packages/tqdm/__init__.py:27: TqdmDeprecationWarning: This function will be removed in tqdm==5.0.0\n",
      "Please use `tqdm.notebook.tqdm` instead of `tqdm.tqdm_notebook`\n",
      "  TqdmDeprecationWarning)\n"
     ]
    },
    {
     "data": {
      "application/vnd.jupyter.widget-view+json": {
       "model_id": "240c23cfed0d4eba88dce155a361d2a9",
       "version_major": 2,
       "version_minor": 0
      },
      "text/plain": [
       "HBox(children=(IntProgress(value=0, max=237783), HTML(value='')))"
      ]
     },
     "metadata": {},
     "output_type": "display_data"
    },
    {
     "name": "stdout",
     "output_type": "stream",
     "text": [
      "\n"
     ]
    },
    {
     "data": {
      "text/plain": [
       "94838"
      ]
     },
     "execution_count": 175,
     "metadata": {},
     "output_type": "execute_result"
    }
   ],
   "source": [
    "keyword = ['中國','投資']\n",
    "num = 0\n",
    "with open('cloud_text.txt', 'w') as f:\n",
    "    for x in tqdm_notebook(range(0, len(data))):\n",
    "        para = data.loc[x,'content']\n",
    "        if fil_OR(para, keyword):\n",
    "            para = filters(para)\n",
    "            f.write(para)\n",
    "            num += 1\n",
    "        \n",
    "num"
   ]
  },
  {
   "cell_type": "markdown",
   "metadata": {},
   "source": [
    "# for LDA"
   ]
  },
  {
   "cell_type": "code",
   "execution_count": 147,
   "metadata": {},
   "outputs": [
    {
     "name": "stderr",
     "output_type": "stream",
     "text": [
      "/Users/lanjingyi/opt/anaconda3/lib/python3.7/site-packages/tqdm/__init__.py:27: TqdmDeprecationWarning: This function will be removed in tqdm==5.0.0\n",
      "Please use `tqdm.notebook.tqdm` instead of `tqdm.tqdm_notebook`\n",
      "  TqdmDeprecationWarning)\n"
     ]
    },
    {
     "data": {
      "application/vnd.jupyter.widget-view+json": {
       "model_id": "293438a260c64706a9e4c128c01fca3f",
       "version_major": 2,
       "version_minor": 0
      },
      "text/plain": [
       "HBox(children=(IntProgress(value=0, max=237783), HTML(value='')))"
      ]
     },
     "metadata": {},
     "output_type": "display_data"
    },
    {
     "name": "stdout",
     "output_type": "stream",
     "text": [
      "\n"
     ]
    },
    {
     "data": {
      "text/plain": [
       "16553"
      ]
     },
     "execution_count": 147,
     "metadata": {},
     "output_type": "execute_result"
    }
   ],
   "source": [
    "keyword = ['中國','投資']\n",
    "num = 0\n",
    "with open('LDA.csv', 'w') as f:\n",
    "    f.write('content' + '\\n')\n",
    "    for x in tqdm_notebook(range(0, len(data))):\n",
    "        para = data.loc[x,'content']\n",
    "        if fil_OR(para, company_list):\n",
    "            para = filters(para)\n",
    "            f.write(para + '\\n')\n",
    "            num += 1\n",
    "        \n",
    "num"
   ]
  },
  {
   "cell_type": "code",
   "execution_count": 148,
   "metadata": {},
   "outputs": [
    {
     "data": {
      "text/plain": [
       "0        封關 四大 加碼 買進 國泰 總計 投入 政府 升息 因素 消除 上證 上證所 廢除 購車 ...\n",
       "1        封關 四大 加碼 買進 國泰 總計 投入 政府 升息 因素 消除 上證 上證所 廢除 購車 ...\n",
       "2        元月 登場 場外 外資 結束 長假 歸隊 可望 帶動 大盤 年底 大盤 低迷 逆勢 外資 加...\n",
       "3        封關 戲劇 戲劇性 演出 特定 買盤 急拉 國泰 金台 台塑 南亞 打破 原本 沉悶 加權 ...\n",
       "4        完勝 三星 製程 強壓 對手 蘋果 代工 工大 可望 三星 暫緩 擴廠 腳步 車展 換新 訂...\n",
       "                               ...                        \n",
       "16548    痛失 萬點 萬點大關 大關 多頭 轉折 面對 難測 新富 五大 預測 有機 機會 再戰 萬點...\n",
       "16549    經歷 波動 劇烈 年後 面對 第一季 一季 操作 統一 法人 建議 挑選 法人 人機 機構 ...\n",
       "16550    金管會 統計 計年 銀行 信用 信用卡 金額 創新 新高 時序 信用 信用卡 悄悄 新年 優...\n",
       "16551    新光 資本 本市 波動 匯率 干擾 單月 稅後 虧損 累計 稅後 獲利 有成 成長 盈餘 餘...\n",
       "16552    稅後 盈餘 稅後 盈餘 旗下 銀行 國內 最多 營業 據點 拓展 海外 據點 加計 開業 柬...\n",
       "Name: content_cut, Length: 16553, dtype: object"
      ]
     },
     "execution_count": 148,
     "metadata": {},
     "output_type": "execute_result"
    }
   ],
   "source": [
    "data_lda = pd.read_csv('LDA.csv')\n",
    "\n",
    "def lda_wordcut(my_text):\n",
    "    word_after_jieba = jieba.cut(my_text, cut_all = True)\n",
    "    wl_space_split = ''\n",
    "    for word in word_after_jieba:\n",
    "        if word not in stopwords:\n",
    "            if re.findall(r'^[^\\d]\\w+', word):\n",
    "                wl_space_split += word + ' '\n",
    "    return wl_space_split\n",
    "\n",
    "data_lda['content_cut'] = data_lda.content.apply(lda_wordcut)\n",
    "data_lda['content_cut']"
   ]
  },
  {
   "cell_type": "markdown",
   "metadata": {},
   "source": [
    "# 文字雲處理（斷詞 ＋ 進模型）"
   ]
  },
  {
   "cell_type": "code",
   "execution_count": 176,
   "metadata": {},
   "outputs": [
    {
     "name": "stderr",
     "output_type": "stream",
     "text": [
      "/Users/lanjingyi/opt/anaconda3/lib/python3.7/site-packages/tqdm/__init__.py:27: TqdmDeprecationWarning: This function will be removed in tqdm==5.0.0\n",
      "Please use `tqdm.notebook.tqdm` instead of `tqdm.tqdm_notebook`\n",
      "  TqdmDeprecationWarning)\n"
     ]
    },
    {
     "data": {
      "application/vnd.jupyter.widget-view+json": {
       "model_id": "b514a13e67df42019fb426bef9811e8d",
       "version_major": 2,
       "version_minor": 0
      },
      "text/plain": [
       "HBox(children=(IntProgress(value=1, bar_style='info', max=1), HTML(value='')))"
      ]
     },
     "metadata": {},
     "output_type": "display_data"
    },
    {
     "name": "stderr",
     "output_type": "stream",
     "text": [
      "Building prefix dict from /Users/lanjingyi/python code/產經期末報告/dict_txt_big.txt ...\n",
      "Loading model from cache /var/folders/1b/jh91y5hn0qg5z2g3cp2bcby00000gn/T/jieba.u3d86a300416b820dbd0c897bfee89ebd.cache\n",
      "Loading model cost 1.852 seconds.\n",
      "Prefix dict has been built succesfully.\n"
     ]
    },
    {
     "name": "stdout",
     "output_type": "stream",
     "text": [
      "\n"
     ]
    },
    {
     "data": {
      "image/png": "[encoded data removed]",
      "text/plain": [
       "<Figure size 1080x1080 with 1 Axes>"
      ]
     },
     "metadata": {
      "needs_background": "light"
     },
     "output_type": "display_data"
    }
   ],
   "source": [
    "file_text = open('cloud_text.txt').read()\n",
    "word_after_jeiba = jieba.cut(file_text, cut_all = True)\n",
    "# 載入停用詞\n",
    "wl_space_split = ''\n",
    "for word in tqdm_notebook(word_after_jeiba):\n",
    "    if word not in stopwords:\n",
    "        if re.findall(r'^[^\\d]\\w+', word):\n",
    "            wl_space_split += word + ' '\n",
    "            \n",
    "wc = WordCloud(width=1000,\n",
    "               height=600,\n",
    "               min_font_size=20,\n",
    "               max_font_size=140,\n",
    "               background_color='white',\n",
    "               scale=0.5,\n",
    "               font_path = '/Users/lanjingyi/opt/anaconda3/lib/python3.7/site-packages/matplotlib/mpl-data/fonts/ttf/Microsoft JhengHei.ttf')\n",
    "my_wordcloud = wc.generate(wl_space_split)\n",
    "plt.figure(figsize = (15,15))\n",
    "plt.imshow(my_wordcloud)\n",
    "plt.axis(\"off\")\n",
    "plt.savefig(\"中國投資.png\", dpi = 500)\n",
    "plt.show()"
   ]
  },
  {
   "cell_type": "code",
   "execution_count": 75,
   "metadata": {},
   "outputs": [
    {
     "name": "stderr",
     "output_type": "stream",
     "text": [
      "/Users/lanjingyi/opt/anaconda3/lib/python3.7/site-packages/botocore/awsrequest.py:624: DeprecationWarning: Using or importing the ABCs from 'collections' instead of from 'collections.abc' is deprecated, and in 3.8 it will stop working\n",
      "  class HeadersDict(collections.MutableMapping):\n"
     ]
    },
    {
     "data": {
      "text/html": [
       "<div>\n",
       "<style scoped>\n",
       "    .dataframe tbody tr th:only-of-type {\n",
       "        vertical-align: middle;\n",
       "    }\n",
       "\n",
       "    .dataframe tbody tr th {\n",
       "        vertical-align: top;\n",
       "    }\n",
       "\n",
       "    .dataframe thead th {\n",
       "        text-align: right;\n",
       "    }\n",
       "</style>\n",
       "<table border=\"1\" class=\"dataframe\">\n",
       "  <thead>\n",
       "    <tr style=\"text-align: right;\">\n",
       "      <th></th>\n",
       "      <th>公司代碼</th>\n",
       "      <th>TSE新產業名</th>\n",
       "      <th>TEJ子產業名</th>\n",
       "      <th>2012</th>\n",
       "      <th>2013</th>\n",
       "      <th>2014</th>\n",
       "      <th>2015</th>\n",
       "      <th>2016</th>\n",
       "      <th>2017</th>\n",
       "      <th>2018</th>\n",
       "    </tr>\n",
       "  </thead>\n",
       "  <tbody>\n",
       "    <tr>\n",
       "      <td>0</td>\n",
       "      <td>2330 台積電</td>\n",
       "      <td>M2324 半導體</td>\n",
       "      <td>M23G1A 晶圓代工</td>\n",
       "      <td>0.0</td>\n",
       "      <td>0.0</td>\n",
       "      <td>0.0</td>\n",
       "      <td>0.0</td>\n",
       "      <td>6435200.0</td>\n",
       "      <td>21724892</td>\n",
       "      <td>2361320.0</td>\n",
       "    </tr>\n",
       "    <tr>\n",
       "      <td>1</td>\n",
       "      <td>2303 聯電</td>\n",
       "      <td>M2324 半導體</td>\n",
       "      <td>M23G1A 晶圓代工</td>\n",
       "      <td>592943.0</td>\n",
       "      <td>4679315.0</td>\n",
       "      <td>25414.0</td>\n",
       "      <td>1035969.0</td>\n",
       "      <td>4830.0</td>\n",
       "      <td>13244953</td>\n",
       "      <td>17227277.0</td>\n",
       "    </tr>\n",
       "    <tr>\n",
       "      <td>2</td>\n",
       "      <td>1326 台化</td>\n",
       "      <td>M1300 塑膠工業</td>\n",
       "      <td>M13A1 泛用塑膠</td>\n",
       "      <td>874680.0</td>\n",
       "      <td>29610.0</td>\n",
       "      <td>456525.0</td>\n",
       "      <td>0.0</td>\n",
       "      <td>2367940.0</td>\n",
       "      <td>6155311</td>\n",
       "      <td>6589991.0</td>\n",
       "    </tr>\n",
       "    <tr>\n",
       "      <td>3</td>\n",
       "      <td>2201 裕隆</td>\n",
       "      <td>M2200 汽車工業</td>\n",
       "      <td>M22A 汽車製造</td>\n",
       "      <td>2760978.0</td>\n",
       "      <td>0.0</td>\n",
       "      <td>44310.0</td>\n",
       "      <td>1437410.0</td>\n",
       "      <td>1556621.0</td>\n",
       "      <td>4874572</td>\n",
       "      <td>8591001.0</td>\n",
       "    </tr>\n",
       "    <tr>\n",
       "      <td>4</td>\n",
       "      <td>9940 信義</td>\n",
       "      <td>M9900 其他</td>\n",
       "      <td>M25D 仲介建經</td>\n",
       "      <td>457462.0</td>\n",
       "      <td>3868747.0</td>\n",
       "      <td>454477.0</td>\n",
       "      <td>87082.0</td>\n",
       "      <td>0.0</td>\n",
       "      <td>3900696</td>\n",
       "      <td>0.0</td>\n",
       "    </tr>\n",
       "    <tr>\n",
       "      <td>...</td>\n",
       "      <td>...</td>\n",
       "      <td>...</td>\n",
       "      <td>...</td>\n",
       "      <td>...</td>\n",
       "      <td>...</td>\n",
       "      <td>...</td>\n",
       "      <td>...</td>\n",
       "      <td>...</td>\n",
       "      <td>...</td>\n",
       "      <td>...</td>\n",
       "    </tr>\n",
       "    <tr>\n",
       "      <td>667</td>\n",
       "      <td>9943 好樂迪</td>\n",
       "      <td>M2700 觀光事業</td>\n",
       "      <td>M27B 觀光遊樂區</td>\n",
       "      <td>0.0</td>\n",
       "      <td>0.0</td>\n",
       "      <td>0.0</td>\n",
       "      <td>0.0</td>\n",
       "      <td>0.0</td>\n",
       "      <td>0</td>\n",
       "      <td>0.0</td>\n",
       "    </tr>\n",
       "    <tr>\n",
       "      <td>668</td>\n",
       "      <td>9944 新麗</td>\n",
       "      <td>M9900 其他</td>\n",
       "      <td>M14F 不織布</td>\n",
       "      <td>0.0</td>\n",
       "      <td>0.0</td>\n",
       "      <td>0.0</td>\n",
       "      <td>0.0</td>\n",
       "      <td>0.0</td>\n",
       "      <td>0</td>\n",
       "      <td>0.0</td>\n",
       "    </tr>\n",
       "    <tr>\n",
       "      <td>669</td>\n",
       "      <td>9945 潤泰新</td>\n",
       "      <td>M9900 其他</td>\n",
       "      <td>M25A 建設</td>\n",
       "      <td>0.0</td>\n",
       "      <td>0.0</td>\n",
       "      <td>158250.0</td>\n",
       "      <td>0.0</td>\n",
       "      <td>0.0</td>\n",
       "      <td>0</td>\n",
       "      <td>0.0</td>\n",
       "    </tr>\n",
       "    <tr>\n",
       "      <td>670</td>\n",
       "      <td>9955 佳龍</td>\n",
       "      <td>M9900 其他</td>\n",
       "      <td>M99L1 貴金屬回收</td>\n",
       "      <td>0.0</td>\n",
       "      <td>0.0</td>\n",
       "      <td>0.0</td>\n",
       "      <td>0.0</td>\n",
       "      <td>0.0</td>\n",
       "      <td>0</td>\n",
       "      <td>0.0</td>\n",
       "    </tr>\n",
       "    <tr>\n",
       "      <td>671</td>\n",
       "      <td>5522 遠雄</td>\n",
       "      <td>M2500 建材營造</td>\n",
       "      <td>M25A 建設</td>\n",
       "      <td>1174659.0</td>\n",
       "      <td>1776610.0</td>\n",
       "      <td>798426.0</td>\n",
       "      <td>0.0</td>\n",
       "      <td>0.0</td>\n",
       "      <td>-7133794</td>\n",
       "      <td>0.0</td>\n",
       "    </tr>\n",
       "  </tbody>\n",
       "</table>\n",
       "<p>672 rows × 10 columns</p>\n",
       "</div>"
      ],
      "text/plain": [
       "         公司代碼     TSE新產業名      TEJ子產業名       2012       2013      2014  \\\n",
       "0    2330 台積電   M2324 半導體  M23G1A 晶圓代工        0.0        0.0       0.0   \n",
       "1     2303 聯電   M2324 半導體  M23G1A 晶圓代工   592943.0  4679315.0   25414.0   \n",
       "2     1326 台化  M1300 塑膠工業   M13A1 泛用塑膠   874680.0    29610.0  456525.0   \n",
       "3     2201 裕隆  M2200 汽車工業    M22A 汽車製造  2760978.0        0.0   44310.0   \n",
       "4     9940 信義    M9900 其他    M25D 仲介建經   457462.0  3868747.0  454477.0   \n",
       "..        ...         ...          ...        ...        ...       ...   \n",
       "667  9943 好樂迪  M2700 觀光事業   M27B 觀光遊樂區        0.0        0.0       0.0   \n",
       "668   9944 新麗    M9900 其他     M14F 不織布        0.0        0.0       0.0   \n",
       "669  9945 潤泰新    M9900 其他      M25A 建設        0.0        0.0  158250.0   \n",
       "670   9955 佳龍    M9900 其他  M99L1 貴金屬回收        0.0        0.0       0.0   \n",
       "671   5522 遠雄  M2500 建材營造      M25A 建設  1174659.0  1776610.0  798426.0   \n",
       "\n",
       "          2015       2016      2017        2018  \n",
       "0          0.0  6435200.0  21724892   2361320.0  \n",
       "1    1035969.0     4830.0  13244953  17227277.0  \n",
       "2          0.0  2367940.0   6155311   6589991.0  \n",
       "3    1437410.0  1556621.0   4874572   8591001.0  \n",
       "4      87082.0        0.0   3900696         0.0  \n",
       "..         ...        ...       ...         ...  \n",
       "667        0.0        0.0         0         0.0  \n",
       "668        0.0        0.0         0         0.0  \n",
       "669        0.0        0.0         0         0.0  \n",
       "670        0.0        0.0         0         0.0  \n",
       "671        0.0        0.0  -7133794         0.0  \n",
       "\n",
       "[672 rows x 10 columns]"
      ]
     },
     "execution_count": 75,
     "metadata": {},
     "output_type": "execute_result"
    }
   ],
   "source": [
    "df2_total = pd.read_excel('大陸投資2012-2018_改.xlsx', sheet_name = 9)\n",
    "df2_total.shape\n",
    "df2_total = df2_total.drop(columns = ['年月', '轉投資名稱'])\n",
    "df2_total.rename(columns = {'2017本期匯出金額(NTD)': 2017}, inplace = True)\n",
    "df2_total = df2_total[['公司代碼','TSE新產業名','TEJ子產業名'] + [x for x in range(2012, 2019)]]\n",
    "df2_total = df2_total.fillna(0)\n",
    "df2_total\n"
   ]
  },
  {
   "cell_type": "code",
   "execution_count": 146,
   "metadata": {},
   "outputs": [
    {
     "data": {
      "text/plain": [
       "['國泰金',\n",
       " '合庫金',\n",
       " '開發金',\n",
       " '玉山金',\n",
       " '群益證',\n",
       " '群益期',\n",
       " '彰銀',\n",
       " '台中銀',\n",
       " '中壽',\n",
       " '臺企銀',\n",
       " '遠東銀',\n",
       " '華南金',\n",
       " '富邦金',\n",
       " '元大金',\n",
       " '兆豐金',\n",
       " '台新金',\n",
       " '新光金',\n",
       " '國票金',\n",
       " '永豐金',\n",
       " '中信金',\n",
       " '第一金',\n",
       " '王道銀行',\n",
       " '上海商銀']"
      ]
     },
     "execution_count": 146,
     "metadata": {},
     "output_type": "execute_result"
    }
   ],
   "source": [
    "company_list = df2_total.groupby('TSE新產業名').get_group('M2800 金融業')['公司代碼']\n",
    "company_list = list(company_list)\n",
    "company_list = [x[5:] for x in company_list]\n",
    "company_list"
   ]
  },
  {
   "cell_type": "code",
   "execution_count": null,
   "metadata": {},
   "outputs": [],
   "source": []
  },
  {
   "cell_type": "code",
   "execution_count": 14,
   "metadata": {},
   "outputs": [
    {
     "data": {
      "text/plain": [
       "False"
      ]
     },
     "execution_count": 14,
     "metadata": {},
     "output_type": "execute_result"
    }
   ],
   "source": [
    "'包括' in stopwords"
   ]
  },
  {
   "cell_type": "markdown",
   "metadata": {},
   "source": [
    "# LDA"
   ]
  },
  {
   "cell_type": "code",
   "execution_count": 149,
   "metadata": {},
   "outputs": [],
   "source": [
    "n_features = 1000"
   ]
  },
  {
   "cell_type": "code",
   "execution_count": 150,
   "metadata": {},
   "outputs": [],
   "source": [
    "tf_vectorizer = CountVectorizer(strip_accents = 'unicode',\n",
    "                                max_features = n_features,\n",
    "                                stop_words = 'english',\n",
    "                                max_df = 0.5,\n",
    "                                min_df = 10)\n",
    "\n",
    "tf = tf_vectorizer.fit_transform(data_lda['content_cut'])"
   ]
  },
  {
   "cell_type": "code",
   "execution_count": 155,
   "metadata": {},
   "outputs": [],
   "source": [
    "n_topics = 10\n",
    "lda = LDA(n_components = n_topics, \n",
    "          max_iter = 50,\n",
    "          learning_method = 'online',\n",
    "          learning_offset = 50,\n",
    "          random_state = 0)\n",
    "\n"
   ]
  },
  {
   "cell_type": "code",
   "execution_count": 156,
   "metadata": {},
   "outputs": [
    {
     "data": {
      "text/plain": [
       "LatentDirichletAllocation(batch_size=128, doc_topic_prior=None,\n",
       "                          evaluate_every=-1, learning_decay=0.7,\n",
       "                          learning_method='online', learning_offset=50,\n",
       "                          max_doc_update_iter=100, max_iter=50,\n",
       "                          mean_change_tol=0.001, n_components=10, n_jobs=None,\n",
       "                          perp_tol=0.1, random_state=0, topic_word_prior=None,\n",
       "                          total_samples=1000000.0, verbose=0)"
      ]
     },
     "execution_count": 156,
     "metadata": {},
     "output_type": "execute_result"
    }
   ],
   "source": [
    "lda.fit(tf)"
   ]
  },
  {
   "cell_type": "code",
   "execution_count": 157,
   "metadata": {},
   "outputs": [
    {
     "name": "stdout",
     "output_type": "stream",
     "text": [
      "Topic #0:\n",
      "認購 國泰 新光 大金 股票 券商 中信 玉山 永豐 南亞 遠東 統一 歐式 亞科 開發 數量 名稱 價格 石化 中石化\n",
      "Topic #1:\n",
      "電子 上漲 表現 持續 新高 帶動 元件 指標 震盪 留意 被動 反彈 高點 漲幅 股價 短線 漲停 鋼鐵 激勵 走高\n",
      "Topic #2:\n",
      "下跌 股價 表現 跌幅 外資 震盪 電子 上漲 漲幅 一度 加權 國泰 反彈 大盤 股市 短線 加權指數 跌破 重挫 持續\n",
      "Topic #3:\n",
      "外資 買超 法人 上周 萬張 自營商 加碼 期貨 部位 持續 合計 周五 資金 連續 上周五 本周 平倉 買盤 萬口 統計\n",
      "Topic #4:\n",
      "銀行 全球 投資 收益 債券 資產 業務 服務 人民幣 成長 金管會 人壽 稅後 科技 中國 發展 產業 獲利 海外 旗下\n",
      "Topic #5:\n",
      "獲利 股價 新高 成長 營運 可望 業績 蘋果 法人 上市 受惠 看好 外資 供應 利率 股東 股利 供應鏈 出貨 產業\n",
      "Topic #6:\n",
      "董事 證券 公告 關係 股份 金額 發行 公開 關係人 資訊 法人 財務 價格 股東 說明會 發生 董事會 訊息 年月日 持股\n",
      "Topic #7:\n",
      "買進 賣出 金額 股價 證券 外資 收盤 上市 自營商 買超 股票 市值 不含 上漲 中信 億萬 下跌 國泰 億萬元 台塑\n",
      "Topic #8:\n",
      "外資 超前 五大 餘額 買超 融資 下跌 融券 變化 萬張 股市 上漲 部位 技術 部份 金額 點收 預期 第三 上揚\n",
      "Topic #9:\n",
      "貿易 投資 貿易戰 股市 成長 資金 利率 影響 升息 預期 全球 中國 表現 持續 經理人 美中 風險 科技 景氣 政策\n",
      "\n"
     ]
    }
   ],
   "source": [
    "n_top_words = 20\n",
    "def print_top_words(model, features_names, n_top_words):\n",
    "    for topic_idx, topic in enumerate(model.components_):\n",
    "        print('Topic #%d:'% topic_idx)\n",
    "        print(' '.join([features_names[i] for i in topic.argsort()[:-n_top_words - 1: -1]]))\n",
    "    print()\n",
    "        \n",
    "tf_features_names = tf_vectorizer.get_feature_names()\n",
    "print_top_words(lda, tf_features_names, n_top_words)\n"
   ]
  },
  {
   "cell_type": "code",
   "execution_count": 158,
   "metadata": {},
   "outputs": [
    {
     "name": "stdout",
     "output_type": "stream",
     "text": [
      "CPU times: user 8.59 s, sys: 221 ms, total: 8.81 s\n",
      "Wall time: 35.6 s\n"
     ]
    },
    {
     "name": "stderr",
     "output_type": "stream",
     "text": [
      "/Users/lanjingyi/opt/anaconda3/lib/python3.7/site-packages/pyLDAvis/_prepare.py:257: FutureWarning: Sorting because non-concatenation axis is not aligned. A future version\n",
      "of pandas will change to not sort by default.\n",
      "\n",
      "To accept the future behavior, pass 'sort=False'.\n",
      "\n",
      "To retain the current behavior and silence the warning, pass 'sort=True'.\n",
      "\n",
      "  return pd.concat([default_term_info] + list(topic_dfs))\n"
     ]
    }
   ],
   "source": [
    "%%time\n",
    "from pyLDAvis import sklearn as sklearn_lda\n",
    "import pickle \n",
    "import pyLDAvis\n",
    "LDAvis_data_filepath = os.path.join('./LDA/topic')\n",
    "# # this is a bit time consuming - make the if statement True\n",
    "# # if you want to execute visualization prep yourself\n",
    "\n",
    "LDAvis_prepared = sklearn_lda.prepare(lda, tf, tf_vectorizer)\n",
    "with open(LDAvis_data_filepath, 'wb') as f:\n",
    "        pickle.dump(LDAvis_prepared, f)\n",
    "        \n",
    "# load the pre-prepared pyLDAvis data from disk\n",
    "with open(LDAvis_data_filepath,'rb') as f:\n",
    "    LDAvis_prepared = pickle.load(f)\n",
    "    pyLDAvis.save_html(LDAvis_prepared, './LDA/' +'金融業7topic.html')\n"
   ]
  },
  {
   "cell_type": "code",
   "execution_count": null,
   "metadata": {
    "scrolled": false
   },
   "outputs": [],
   "source": []
  },
  {
   "cell_type": "code",
   "execution_count": 27,
   "metadata": {},
   "outputs": [
    {
     "name": "stdout",
     "output_type": "stream",
     "text": [
      "我爱你他\n"
     ]
    }
   ],
   "source": [
    "\n",
    "\n",
    "import re\n",
    "x = 'a12121assa'\n",
    "x = '1我爱你1asdjflkdf他'\n",
    "\n",
    "r1 = '[a-zA-Z0-9’!\"#$%&\\'()*+,-./:;<=>?@，。?★、…【】《》？“”‘’！[\\\\]^_`{|}~]+'\n",
    "\n",
    "print(re.sub(r1, '', x))\n"
   ]
  },
  {
   "cell_type": "code",
   "execution_count": null,
   "metadata": {},
   "outputs": [],
   "source": []
  },
  {
   "cell_type": "code",
   "execution_count": 51,
   "metadata": {},
   "outputs": [
    {
     "name": "stdout",
     "output_type": "stream",
     "text": [
      "小明\n",
      "xiaohong\n",
      "adf12\n"
     ]
    }
   ],
   "source": [
    "import re\n",
    "L = ['小明', 'xiaohong', '12', 'adf12', '14']\n",
    "r1 = '[a-zA-Z0-9’!\"#$%&\\'()*+,-./:;<=>?@，。?★、…【】《》？“”‘’！[\\\\]^_`{|}~]+'\n",
    "for i in range(len(L)):\n",
    "    if re.findall(r'^[^\\d]\\w+', L[i]):\n",
    "        print(re.findall(r'^\\w+$', L[i])[0])\n"
   ]
  },
  {
   "cell_type": "code",
   "execution_count": 120,
   "metadata": {},
   "outputs": [
    {
     "data": {
      "text/plain": [
       "author\n",
       "Moneydj理財網                           62056\n",
       "PR Newswire Asia info@prnasia.com      943\n",
       "TVBS新聞網                                 11\n",
       "Yahoo奇摩股市                             1668\n",
       "中央社                                  27517\n",
       "中時電子報                                  531\n",
       "時報資訊                                 76713\n",
       "法新社                                   1866\n",
       "財訊快報                                 54658\n",
       "路透社                                    443\n",
       "鉅亨網                                  20852\n",
       "dtype: int64"
      ]
     },
     "execution_count": 120,
     "metadata": {},
     "output_type": "execute_result"
    }
   ],
   "source": [
    "data.groupby('author').size()"
   ]
  },
  {
   "cell_type": "markdown",
   "metadata": {},
   "source": [
    "# 撈實體新聞"
   ]
  },
  {
   "cell_type": "code",
   "execution_count": 168,
   "metadata": {},
   "outputs": [
    {
     "name": "stderr",
     "output_type": "stream",
     "text": [
      "/Users/lanjingyi/opt/anaconda3/lib/python3.7/site-packages/tqdm/__init__.py:27: TqdmDeprecationWarning: This function will be removed in tqdm==5.0.0\n",
      "Please use `tqdm.notebook.tqdm` instead of `tqdm.tqdm_notebook`\n",
      "  TqdmDeprecationWarning)\n"
     ]
    },
    {
     "data": {
      "application/vnd.jupyter.widget-view+json": {
       "model_id": "bcb9ffb1e8c240bea8167e6a615a26b2",
       "version_major": 2,
       "version_minor": 0
      },
      "text/plain": [
       "HBox(children=(IntProgress(value=0, max=237783), HTML(value='')))"
      ]
     },
     "metadata": {},
     "output_type": "display_data"
    },
    {
     "name": "stdout",
     "output_type": "stream",
     "text": [
      "\n"
     ]
    },
    {
     "data": {
      "text/plain": [
       "174"
      ]
     },
     "execution_count": 168,
     "metadata": {},
     "output_type": "execute_result"
    }
   ],
   "source": [
    "num = 0\n",
    "keyword = ['認購','新光']\n",
    "with open('news.txt','w') as f:\n",
    "    for x in tqdm_notebook(range(0, len(data))):\n",
    "        para = data.loc[x,'content']\n",
    "        if fil_AND(para, keyword):\n",
    "            para = filters(para)\n",
    "            f.write(para+ '\\n')\n",
    "            num += 1\n",
    "num"
   ]
  },
  {
   "cell_type": "code",
   "execution_count": null,
   "metadata": {},
   "outputs": [],
   "source": []
  }
 ],
 "metadata": {
  "kernelspec": {
   "display_name": "Python 3",
   "language": "python",
   "name": "python3"
  },
  "language_info": {
   "codemirror_mode": {
    "name": "ipython",
    "version": 3
   },
   "file_extension": ".py",
   "mimetype": "text/x-python",
   "name": "python",
   "nbconvert_exporter": "python",
   "pygments_lexer": "ipython3",
   "version": "3.7.4"
  }
 },
 "nbformat": 4,
 "nbformat_minor": 2
}
